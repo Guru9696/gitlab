{
 "cells": [
  {
   "cell_type": "code",
   "execution_count": 4,
   "id": "307ca786",
   "metadata": {},
   "outputs": [],
   "source": [
    "import pandas as pd\n",
    "from sklearn.linear_model import LinearRegression\n",
    "from sklearn.preprocessing import LabelEncoder\n"
   ]
  },
  {
   "cell_type": "code",
   "execution_count": 48,
   "id": "42e96107",
   "metadata": {},
   "outputs": [
    {
     "name": "stdout",
     "output_type": "stream",
     "text": [
      "   Home  Sq-ft  Bedrooms  Bathrooms  Offers Brick Neighbourhood   Price\n",
      "0     1   1790         2          2       2    No          East  114300\n",
      "1     2   2030         4          2       3    No          East  114200\n",
      "2     3   1740         3          2       1    No          East  114800\n",
      "3     4   1980         3          2       3    No          East   94700\n",
      "4     5   2130         3          3       3    No          East  119800\n"
     ]
    }
   ],
   "source": [
    "df = pd.read_csv('house-prices.csv')\n",
    "\n",
    "print(df.head())"
   ]
  },
  {
   "cell_type": "code",
   "execution_count": 49,
   "id": "a5fd9fe1",
   "metadata": {},
   "outputs": [],
   "source": [
    "input = df.drop('Price', axis=1)"
   ]
  },
  {
   "cell_type": "code",
   "execution_count": 50,
   "id": "3af9b566",
   "metadata": {},
   "outputs": [
    {
     "name": "stdout",
     "output_type": "stream",
     "text": [
      "   Home  Sq-ft  Bedrooms  Bathrooms  Offers Brick Neighbourhood\n",
      "0     1   1790         2          2       2    No          East\n",
      "1     2   2030         4          2       3    No          East\n",
      "2     3   1740         3          2       1    No          East\n",
      "3     4   1980         3          2       3    No          East\n",
      "4     5   2130         3          3       3    No          East\n"
     ]
    }
   ],
   "source": [
    "print(input.head())"
   ]
  },
  {
   "cell_type": "code",
   "execution_count": 51,
   "id": "b17d8cd3",
   "metadata": {},
   "outputs": [
    {
     "data": {
      "text/plain": [
       "0        1\n",
       "1        2\n",
       "2        3\n",
       "3        4\n",
       "4        5\n",
       "      ... \n",
       "123    124\n",
       "124    125\n",
       "125    126\n",
       "126    127\n",
       "127    128\n",
       "Name: Home, Length: 128, dtype: int64"
      ]
     },
     "execution_count": 51,
     "metadata": {},
     "output_type": "execute_result"
    }
   ],
   "source": [
    "input.pop('Home')"
   ]
  },
  {
   "cell_type": "code",
   "execution_count": 52,
   "id": "134d8715",
   "metadata": {},
   "outputs": [
    {
     "name": "stdout",
     "output_type": "stream",
     "text": [
      "   Sq-ft  Bedrooms  Bathrooms  Offers Brick Neighbourhood\n",
      "0   1790         2          2       2    No          East\n",
      "1   2030         4          2       3    No          East\n",
      "2   1740         3          2       1    No          East\n",
      "3   1980         3          2       3    No          East\n",
      "4   2130         3          3       3    No          East\n"
     ]
    }
   ],
   "source": [
    "print(input.head())"
   ]
  },
  {
   "cell_type": "code",
   "execution_count": 53,
   "id": "d9c517b1",
   "metadata": {},
   "outputs": [],
   "source": [
    "target = df['Price']"
   ]
  },
  {
   "cell_type": "code",
   "execution_count": 54,
   "id": "c98ebc33",
   "metadata": {},
   "outputs": [
    {
     "name": "stdout",
     "output_type": "stream",
     "text": [
      "0      114300\n",
      "1      114200\n",
      "2      114800\n",
      "3       94700\n",
      "4      119800\n",
      "        ...  \n",
      "123    119700\n",
      "124    147900\n",
      "125    113500\n",
      "126    149900\n",
      "127    124600\n",
      "Name: Price, Length: 128, dtype: int64\n"
     ]
    }
   ],
   "source": [
    "print(target)"
   ]
  },
  {
   "cell_type": "code",
   "execution_count": 55,
   "id": "0546c67e",
   "metadata": {},
   "outputs": [],
   "source": [
    "le_brick = LabelEncoder()\n",
    "le_neighbourhood = LabelEncoder()"
   ]
  },
  {
   "cell_type": "code",
   "execution_count": 56,
   "id": "0aee0a40",
   "metadata": {},
   "outputs": [],
   "source": [
    "input['Brick'] = le_brick.fit_transform(input['Brick'])\n",
    "input['Neighbourhood'] = le_neighbourhood.fit_transform(input['Neighbourhood'])"
   ]
  },
  {
   "cell_type": "code",
   "execution_count": 57,
   "id": "1de5a2b6",
   "metadata": {},
   "outputs": [
    {
     "name": "stdout",
     "output_type": "stream",
     "text": [
      "    Sq-ft  Bedrooms  Bathrooms  Offers  Brick  Neighbourhood\n",
      "0    1790         2          2       2      0              0\n",
      "1    2030         4          2       3      0              0\n",
      "2    1740         3          2       1      0              0\n",
      "3    1980         3          2       3      0              0\n",
      "4    2130         3          3       3      0              0\n",
      "5    1780         3          2       2      0              1\n",
      "6    1830         3          3       3      1              2\n",
      "7    2160         4          2       2      0              2\n",
      "8    2110         4          2       3      0              0\n",
      "9    1730         3          3       3      0              0\n",
      "10   2030         3          2       3      1              0\n",
      "11   1870         2          2       2      1              0\n",
      "12   1910         3          2       4      0              1\n",
      "13   2150         3          3       5      1              1\n",
      "14   2590         4          3       4      0              2\n",
      "15   1780         4          2       1      0              2\n",
      "16   2190         3          3       4      1              0\n",
      "17   1990         3          3       4      0              1\n",
      "18   1700         2          2       1      1              0\n",
      "19   1920         3          3       2      1              2\n",
      "20   1790         3          2       3      0              0\n",
      "21   2000         3          2       4      0              1\n",
      "22   1690         3          2       3      0              1\n",
      "23   1820         3          2       3      1              1\n",
      "24   2210         4          3       2      1              0\n",
      "25   2290         4          3       3      0              1\n",
      "26   2000         4          2       3      0              2\n",
      "27   1700         3          2       2      0              0\n",
      "28   1600         2          2       3      0              1\n",
      "29   2040         4          3       1      1              2\n",
      "30   2250         4          3       3      1              2\n",
      "31   1930         2          2       2      1              1\n",
      "32   2250         3          3       3      1              0\n",
      "33   2280         5          3       4      1              0\n",
      "34   2000         2          2       3      0              1\n",
      "35   2080         3          3       3      0              1\n",
      "36   1880         2          2       2      0              1\n",
      "37   2420         4          3       4      0              2\n",
      "38   1720         3          2       1      0              2\n",
      "39   1740         3          2       2      0              1\n",
      "40   1560         2          2       1      0              0\n",
      "41   1840         4          3       2      0              2\n",
      "42   1990         2          2       3      0              0\n",
      "43   1920         3          2       1      1              0\n",
      "44   1940         3          3       2      1              2\n",
      "45   1810         3          2       3      0              0\n",
      "46   1990         2          3       2      0              1\n",
      "47   2050         3          2       6      0              1\n",
      "48   1980         2          2       2      0              0\n",
      "49   1700         3          2       3      1              1\n",
      "50   2100         3          2       3      1              0\n",
      "51   1860         2          2       3      0              1\n",
      "52   2150         2          3       4      0              1\n",
      "53   2100         3          2       3      0              1\n",
      "54   1650         3          2       3      0              1\n",
      "55   1720         2          2       2      1              0\n",
      "56   2190         3          2       3      1              0\n",
      "57   2240         4          3       3      0              2\n",
      "58   1840         3          3       1      0              2\n",
      "59   2090         4          2       1      0              2\n"
     ]
    }
   ],
   "source": [
    "print(input.head(60))"
   ]
  },
  {
   "cell_type": "code",
   "execution_count": 58,
   "id": "88774ccf",
   "metadata": {},
   "outputs": [],
   "source": [
    "model = LinearRegression()"
   ]
  },
  {
   "cell_type": "code",
   "execution_count": 67,
   "id": "171fa54d",
   "metadata": {},
   "outputs": [
    {
     "data": {
      "text/plain": [
       "LinearRegression()"
      ]
     },
     "execution_count": 67,
     "metadata": {},
     "output_type": "execute_result"
    }
   ],
   "source": [
    "model.fit(input.values,target)"
   ]
  },
  {
   "cell_type": "code",
   "execution_count": 70,
   "id": "4bbcc94d",
   "metadata": {},
   "outputs": [
    {
     "name": "stdout",
     "output_type": "stream",
     "text": [
      "Predicted House Price :  135288.4480452567\n"
     ]
    }
   ],
   "source": [
    "prediction = model.predict([[2090,5,2,2,0,0]])\n",
    "print(\"Predicted House Price : \",prediction[0])"
   ]
  },
  {
   "cell_type": "code",
   "execution_count": null,
   "id": "ac5d802a",
   "metadata": {},
   "outputs": [],
   "source": [
    "\n"
   ]
  }
 ],
 "metadata": {
  "kernelspec": {
   "display_name": "Python 3 (ipykernel)",
   "language": "python",
   "name": "python3"
  },
  "language_info": {
   "codemirror_mode": {
    "name": "ipython",
    "version": 3
   },
   "file_extension": ".py",
   "mimetype": "text/x-python",
   "name": "python",
   "nbconvert_exporter": "python",
   "pygments_lexer": "ipython3",
   "version": "3.9.13"
  }
 },
 "nbformat": 4,
 "nbformat_minor": 5
}
