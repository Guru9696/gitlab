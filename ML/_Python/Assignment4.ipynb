{
 "cells": [
  {
   "cell_type": "code",
   "execution_count": 26,
   "id": "f8170c7a",
   "metadata": {},
   "outputs": [],
   "source": [
    "import pandas as pd\n",
    "from sklearn.linear_model import LinearRegression\n",
    "\n",
    "import matplotlib.pyplot as plt"
   ]
  },
  {
   "cell_type": "code",
   "execution_count": 3,
   "id": "a58fe7ae",
   "metadata": {},
   "outputs": [],
   "source": [
    "df = pd.read_csv('house-prices-2.csv')"
   ]
  },
  {
   "cell_type": "code",
   "execution_count": 4,
   "id": "a98cb15b",
   "metadata": {},
   "outputs": [
    {
     "name": "stdout",
     "output_type": "stream",
     "text": [
      "   Sq-ft   Price\n",
      "0   1700   80000\n",
      "1   1750   85000\n",
      "2   1800   90000\n",
      "3   1850   95000\n",
      "4   1900  100000\n"
     ]
    }
   ],
   "source": [
    "print(df.head())"
   ]
  },
  {
   "cell_type": "code",
   "execution_count": 13,
   "id": "0930121d",
   "metadata": {},
   "outputs": [],
   "source": [
    "input = df['Sq-ft']"
   ]
  },
  {
   "cell_type": "code",
   "execution_count": 14,
   "id": "60551612",
   "metadata": {},
   "outputs": [
    {
     "name": "stdout",
     "output_type": "stream",
     "text": [
      "0    1700\n",
      "1    1750\n",
      "2    1800\n",
      "3    1850\n",
      "4    1900\n",
      "Name: Sq-ft, dtype: int64\n"
     ]
    }
   ],
   "source": [
    "print(input.head())"
   ]
  },
  {
   "cell_type": "code",
   "execution_count": 15,
   "id": "28fe5c25",
   "metadata": {},
   "outputs": [],
   "source": [
    "target = df['Price']"
   ]
  },
  {
   "cell_type": "code",
   "execution_count": 27,
   "id": "983bbb90",
   "metadata": {},
   "outputs": [
    {
     "name": "stdout",
     "output_type": "stream",
     "text": [
      "0     80000\n",
      "1     85000\n",
      "2     90000\n",
      "3     95000\n",
      "4    100000\n",
      "Name: Price, dtype: int64\n"
     ]
    }
   ],
   "source": [
    "print(target.head())"
   ]
  },
  {
   "cell_type": "code",
   "execution_count": 17,
   "id": "7798cae5",
   "metadata": {},
   "outputs": [],
   "source": [
    "model = LinearRegression()"
   ]
  },
  {
   "cell_type": "code",
   "execution_count": 19,
   "id": "79f55913",
   "metadata": {},
   "outputs": [
    {
     "data": {
      "text/plain": [
       "LinearRegression()"
      ]
     },
     "execution_count": 19,
     "metadata": {},
     "output_type": "execute_result"
    }
   ],
   "source": [
    "model.fit(input.values.reshape((-1,1)),target)"
   ]
  },
  {
   "cell_type": "code",
   "execution_count": 25,
   "id": "3340bd65",
   "metadata": {},
   "outputs": [
    {
     "name": "stdout",
     "output_type": "stream",
     "text": [
      "Predicted Price :  [82600.]\n"
     ]
    }
   ],
   "source": [
    "prediction = model.predict([[1726]])\n",
    "\n",
    "print(\"Predicted Price : \",prediction)"
   ]
  }
 ],
 "metadata": {
  "kernelspec": {
   "display_name": "Python 3 (ipykernel)",
   "language": "python",
   "name": "python3"
  },
  "language_info": {
   "codemirror_mode": {
    "name": "ipython",
    "version": 3
   },
   "file_extension": ".py",
   "mimetype": "text/x-python",
   "name": "python",
   "nbconvert_exporter": "python",
   "pygments_lexer": "ipython3",
   "version": "3.9.13"
  }
 },
 "nbformat": 4,
 "nbformat_minor": 5
}
